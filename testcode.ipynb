{
 "cells": [
  {
   "cell_type": "code",
   "execution_count": 1,
   "metadata": {},
   "outputs": [
    {
     "name": "stdout",
     "output_type": "stream",
     "text": [
      "Are you hungry?yes\n",
      "Get something to eat.\n"
     ]
    }
   ],
   "source": [
    "hungry=raw_input(\"Are you hungry?\")\n",
    "if(hungry==\"yes\"):\n",
    "    print(\"Get something to eat.\")\n",
    "    print(\"May be pizza\")\n",
    "    print(\"Better go for something Healthy\")\n",
    "else:\n",
    "    print(\"Get back to your work.\")"
   ]
  }
 ],
 "metadata": {
  "kernelspec": {
   "display_name": "Python 2",
   "language": "python",
   "name": "python2"
  },
  "language_info": {
   "codemirror_mode": {
    "name": "ipython",
    "version": 2
   },
   "file_extension": ".py",
   "mimetype": "text/x-python",
   "name": "python",
   "nbconvert_exporter": "python",
   "pygments_lexer": "ipython2",
   "version": "2.7.13"
  }
 },
 "nbformat": 4,
 "nbformat_minor": 2
}
